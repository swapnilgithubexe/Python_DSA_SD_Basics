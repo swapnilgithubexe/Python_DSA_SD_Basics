{
 "cells": [
  {
   "cell_type": "markdown",
   "id": "a3bafeb8",
   "metadata": {},
   "source": [
    "## Write a program to input an integer 'n' and print the sum of all its even digits and the sum of all its odd digits separately.\n",
    "\n",
    "\n",
    "\n",
    "Digits mean numbers, not places! That is, if the given integer is \"132456\", even digits are 2, 4, and 6, and odd digits are 1, 3, and 5."
   ]
  },
  {
   "cell_type": "code",
   "execution_count": 1,
   "id": "7bc9fb48",
   "metadata": {},
   "outputs": [
    {
     "name": "stdout",
     "output_type": "stream",
     "text": [
      "12345\n",
      "6   9\n"
     ]
    }
   ],
   "source": [
    "number = int(input())\n",
    "\n",
    "odd = 0\n",
    "even = 0\n",
    "\n",
    "while number > 0:\n",
    "    last_digit = number % 10\n",
    "    if last_digit % 2 == 0:\n",
    "        even = last_digit + even\n",
    "    else:\n",
    "        odd = last_digit + odd\n",
    "\n",
    "    number //= 10 \n",
    "\n",
    "print(even, \" \", odd)"
   ]
  },
  {
   "cell_type": "code",
   "execution_count": null,
   "id": "d06e96e6",
   "metadata": {},
   "outputs": [],
   "source": []
  }
 ],
 "metadata": {
  "kernelspec": {
   "display_name": "Python 3 (ipykernel)",
   "language": "python",
   "name": "python3"
  },
  "language_info": {
   "codemirror_mode": {
    "name": "ipython",
    "version": 3
   },
   "file_extension": ".py",
   "mimetype": "text/x-python",
   "name": "python",
   "nbconvert_exporter": "python",
   "pygments_lexer": "ipython3",
   "version": "3.11.5"
  }
 },
 "nbformat": 4,
 "nbformat_minor": 5
}
