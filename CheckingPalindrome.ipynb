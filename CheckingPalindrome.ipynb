{
 "cells": [
  {
   "cell_type": "markdown",
   "id": "1e3dc638",
   "metadata": {},
   "source": [
    "## Check whether a given number ’n’ is a palindrome number.\n",
    "\n",
    "Note :\n",
    "Palindrome numbers are the numbers that don't change when reversed.\n",
    "You don’t need to print anything. Just implement the given function.\n",
    "Example:\n",
    "Input: 'n' = 51415\n",
    "Output: true\n",
    "Explanation: On reversing, 51415 gives 51415."
   ]
  },
  {
   "cell_type": "code",
   "execution_count": 1,
   "id": "20038e26",
   "metadata": {},
   "outputs": [
    {
     "name": "stdout",
     "output_type": "stream",
     "text": [
      "51215\n",
      "true\n"
     ]
    }
   ],
   "source": [
    "N = int(input())\n",
    "\n",
    "rev = 0 \n",
    "N1 = N\n",
    "while N > 0:\n",
    "    last_digit = N % 10\n",
    "\n",
    "    if rev == 0 and last_digit == 0:\n",
    "        pass\n",
    "    else:\n",
    "        rev = rev * 10 + last_digit\n",
    "    \n",
    "    N = N // 10\n",
    "if N1 == rev:\n",
    "    print(\"true\")\n",
    "else:\n",
    "    print(\"false\")"
   ]
  },
  {
   "cell_type": "code",
   "execution_count": null,
   "id": "f79e7d70",
   "metadata": {},
   "outputs": [],
   "source": []
  }
 ],
 "metadata": {
  "kernelspec": {
   "display_name": "Python 3 (ipykernel)",
   "language": "python",
   "name": "python3"
  },
  "language_info": {
   "codemirror_mode": {
    "name": "ipython",
    "version": 3
   },
   "file_extension": ".py",
   "mimetype": "text/x-python",
   "name": "python",
   "nbconvert_exporter": "python",
   "pygments_lexer": "ipython3",
   "version": "3.11.5"
  }
 },
 "nbformat": 4,
 "nbformat_minor": 5
}
